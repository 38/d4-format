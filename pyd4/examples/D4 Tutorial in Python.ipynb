{
 "cells": [
  {
   "cell_type": "markdown",
   "id": "developmental-subsection",
   "metadata": {},
   "source": [
    "# Getting Started\n",
    "\n",
    "## Install Dependencies\n",
    "\n",
    "This is a tutorial of using D4 in Python. Before you started trying this document, please make sure you have D4 package and `d4tools` binary installed. \n",
    "\n",
    "* To install the d4tools binary, please read the instruction from [this link](https://github.com/38/d4-format#installation--2-minutes)\n",
    "* To install `pyd4`, please run command `pip install pyd4`\n",
    "\n",
    "## Download dataset\n",
    "\n",
    "To download the dataset we are using for this interactive document, please use the following links:\n",
    "* WGS Sample HG002: https://home.chpc.utah.edu/~u0875014/hg002.cram\n",
    "* Reference Genome: https://home.chpc.utah.edu/~u0875014/hg19.fa.gz\n",
    "\n",
    "Please make sure that index files is accessible for both CRAM file and reference genome.\n"
   ]
  },
  {
   "cell_type": "markdown",
   "id": "challenging-person",
   "metadata": {},
   "source": [
    "# Download Data"
   ]
  },
  {
   "cell_type": "code",
   "execution_count": 6,
   "id": "incident-actor",
   "metadata": {},
   "outputs": [
    {
     "data": {
      "text/plain": [
       "0"
      ]
     },
     "execution_count": 6,
     "metadata": {},
     "output_type": "execute_result"
    }
   ],
   "source": [
    "import os\n",
    "os.system(\"mkdir -p data\")\n",
    "os.system(\"cd data && wget --continue https://home.chpc.utah.edu/~u0875014/hg002.cram\")\n",
    "os.system(\"cd data && wget --continue https://home.chpc.utah.edu/~u0875014/hg002.cram.crai\")\n",
    "os.system(\"cd data && wget --continue https://home.chpc.utah.edu/~u0875014/hg19.fa.gz\")\n",
    "os.system(\"cd data && samtools view -T data/hg19.fa.gz data/hg002.cram | head -n 1\")"
   ]
  },
  {
   "cell_type": "markdown",
   "id": "curious-timothy",
   "metadata": {},
   "source": [
    "# Create depth profile for an alignment file\n",
    "\n",
    "pyd4 provides a very fast way to get the per-base depth profile of an alignment file, which usually takes less than 2 minutes on a laptop. As the begining of this tutorial, we profile the per-base depth from the CRAM file we previously downloaded. "
   ]
  },
  {
   "cell_type": "code",
   "execution_count": 13,
   "id": "electoral-persian",
   "metadata": {},
   "outputs": [],
   "source": [
    "import pyd4\n",
    "# Create a D4 file from depth, generate data/hg002.d4\n",
    "file_handle = pyd4.bam_to_d4(\"data/hg002.cram\", reference_genome = \"data/hg19.fa.gz.fai\", output = \"data/hg002.d4\")"
   ]
  },
  {
   "cell_type": "markdown",
   "id": "loose-throw",
   "metadata": {},
   "source": [
    "# Open a D4 file on disk and load data"
   ]
  },
  {
   "cell_type": "code",
   "execution_count": 1,
   "id": "coordinate-registration",
   "metadata": {},
   "outputs": [
    {
     "name": "stdout",
     "output_type": "stream",
     "text": [
      "24.75883394890318\n"
     ]
    }
   ],
   "source": [
    "from pyd4 import D4File\n",
    "\n",
    "# To open file, you can simply initialize a D4File instance\n",
    "file = D4File(\"data/hg002.d4\")\n",
    "\n",
    "# To load data as numpy array from the file\n",
    "chr1_data = file[\"1\"]\n",
    "print(chr1_data.mean())"
   ]
  },
  {
   "cell_type": "markdown",
   "id": "quantitative-gardening",
   "metadata": {},
   "source": [
    "# Visualization data in d4 file\n",
    "You can also use `D4File.resample` to get windowed data of a chromosome and return it as numpy array. Then you can use the numpy array to visualize the depth data."
   ]
  },
  {
   "cell_type": "code",
   "execution_count": 12,
   "id": "stopped-restriction",
   "metadata": {},
   "outputs": [
    {
     "data": {
      "image/png": "[encoded data removed]",
      "text/plain": [
       "<Figure size 432x288 with 1 Axes>"
      ]
     },
     "metadata": {
      "needs_background": "light"
     },
     "output_type": "display_data"
    }
   ],
   "source": [
    "from pyd4 import D4File\n",
    "from matplotlib import pyplot as plt \n",
    "\n",
    "# To open file, you can simply initialize a D4File instance\n",
    "file = D4File(\"data/hg002.d4\")\n",
    "\n",
    "chr1_data = file.resample(\"1\", bin_size = 10000)[0]\n",
    "x = [i * 10000 / 1000000 for i, _ in enumerate(chr1_data)]\n",
    "plt.title(\"Chromosome 1\") \n",
    "plt.xlabel(\"MB\") \n",
    "plt.ylabel(\"Depth\") \n",
    "plt.plot(x,chr1_data)\n",
    "plt.show()"
   ]
  },
  {
   "cell_type": "markdown",
   "id": "growing-mumbai",
   "metadata": {},
   "source": [
    "# Create D4 file to store analysis results\n",
    "\n",
    "You can also use D4 file to save your analysis results in python. The following example gives an example that saves bit flags that indicates if the value is greater than the mean depth for chromosome 1."
   ]
  },
  {
   "cell_type": "code",
   "execution_count": 13,
   "id": "variable-basis",
   "metadata": {},
   "outputs": [],
   "source": [
    "from pyd4 import D4File\n",
    "\n",
    "file = D4File(\"data/hg002.d4\")\n",
    "\n",
    "data = file[\"1\"]\n",
    "\n",
    "# The second parameter specify that we only want the output contains chromosome 1\n",
    "# If this parameter is not provided the output file will use exactly same genome defined in the input file\n",
    "output_writer = file.create_on_same_genome(\"data/chr1_flags_gt50.d4\", [\"1\"]) \\\n",
    "    .for_bit_array() \\\n",
    "    .get_writer()\n",
    "\n",
    "# Write the numpy array for chromosome 1.\n",
    "# The second parameter indicates the locus where the first element of the data array should be.\n",
    "output_writer.write_np_array(\"1\", 0, data > data.mean())\n",
    "\n",
    "del output_writer"
   ]
  },
  {
   "cell_type": "markdown",
   "id": "saved-antigua",
   "metadata": {},
   "source": [
    "# Create D4 file without an existing input as template\n",
    "\n",
    "To create a D4 file from scratch, you need to use the `D4Builder` class. You can also use `add_sequence` method to define your own chromosome in the file. "
   ]
  },
  {
   "cell_type": "code",
   "execution_count": 18,
   "id": "indoor-cleaning",
   "metadata": {},
   "outputs": [],
   "source": [
    "from pyd4 import D4Builder\n",
    "import numpy\n",
    "\n",
    "chroms = [(\"1\", 1000000), (\"2\", 1000000)]\n",
    "\n",
    "writer = D4Builder(\"data/my_d4_file.d4\") \\\n",
    "    .add_chroms(chroms) \\\n",
    "    .set_dict_bits(2) \\\n",
    "    .get_writer()\n",
    "\n",
    "chr1_data = numpy.ones((1000000,), dtype = \"int32\")\n",
    "chr2_data = numpy.zeros((1000000,), dtype = \"int32\")\n",
    "\n",
    "writer.write_np_array(\"1\", 0, chr1_data)\n",
    "writer.write_np_array(\"2\", 0, chr2_data)\n",
    "\n",
    "# Make sure that all the data has been flushed to file\n",
    "writer.close()"
   ]
  },
  {
   "cell_type": "markdown",
   "id": "universal-norway",
   "metadata": {},
   "source": [
    "# Load previously saved analysis results"
   ]
  },
  {
   "cell_type": "code",
   "execution_count": 11,
   "id": "pacific-destiny",
   "metadata": {},
   "outputs": [
    {
     "name": "stdout",
     "output_type": "stream",
     "text": [
      "[('1', 249250621)]\n",
      "131342801\n",
      "[1.0, 0.0]\n"
     ]
    }
   ],
   "source": [
    "from pyd4 import D4File\n",
    "\n",
    "# First file\n",
    "file = D4File(\"data/chr1_flags_gt50.d4\")\n",
    "print(file.chroms())\n",
    "print(file[\"1\"].sum())\n",
    "\n",
    "# Second file we created\n",
    "file = D4File(\"data/my_d4_file.d4\")\n",
    "print(file.mean([\"1\", \"2\"]))"
   ]
  },
  {
   "cell_type": "markdown",
   "id": "other-brazilian",
   "metadata": {},
   "source": [
    "# More about loading raw data\n",
    "\n",
    "- Load the entire chromosome: `file[\"1\"]`\n",
    "- Load a region: `file[\"1:12345-20000\"]` or `file[(\"1\", 12345, 20000)]`"
   ]
  },
  {
   "cell_type": "code",
   "execution_count": 9,
   "id": "fifty-pleasure",
   "metadata": {},
   "outputs": [
    {
     "name": "stdout",
     "output_type": "stream",
     "text": [
      "Mean depth of chr1: 24.75883394890318\n",
      "Mean depth of chr1:12345-20000 57.584193337687786\n",
      "Mean depth of chr1:12345-20000 57.584193337687786\n",
      "Mean depth of chr1:90000000- 24.504211854847334\n"
     ]
    }
   ],
   "source": [
    "from pyd4 import D4File\n",
    "\n",
    "file = D4File(\"data/hg002.d4\")\n",
    "print(\"Mean depth of chr1:\", file[\"1\"].mean())\n",
    "print(\"Mean depth of chr1:12345-20000\", file[\"1:12345-20000\"].mean())\n",
    "print(\"Mean depth of chr1:12345-20000\", file[(\"1\", 12345, 20000)].mean())\n",
    "print(\"Mean depth of chr1:90000000-\", file[\"1:90000000-\"].mean())"
   ]
  },
  {
   "cell_type": "markdown",
   "id": "governing-boutique",
   "metadata": {},
   "source": [
    "# Parallel Tasks \n",
    "\n",
    "Previously we have shown that we can load data in D4 as numpy array and do analysis. \n",
    "However, numpy is mostly single threaded which doesn't takes the advantage of multi-core CPU.\n",
    "\n",
    "The D4 library provides a very effecient API to parallize many different kinds of analysis for D4 format. In Python we can also use those effecient Rust routines to accelerate our analysis.\n",
    "Currently, we have the following task exposed to Python:\n",
    "- `D4File.mean`\n",
    "- `D4File.median`\n",
    "- `D4File.percentile`\n",
    "- `D4File.histogram`"
   ]
  },
  {
   "cell_type": "code",
   "execution_count": 2,
   "id": "physical-belly",
   "metadata": {},
   "outputs": [
    {
     "name": "stdout",
     "output_type": "stream",
     "text": [
      "Time to compute mean depth for each chromosome with PyD4 task API: 3.28s\n",
      "Time to compute mean depth for each chromosome with NumPy: 16.56s\n"
     ]
    }
   ],
   "source": [
    "from pyd4 import D4File\n",
    "from matplotlib import pyplot as plt \n",
    "import time\n",
    "\n",
    "file = D4File(\"data/hg002.d4\")\n",
    "\n",
    "regions = [(chr, 0, size) for chr, size in file.chroms()]\n",
    "\n",
    "# Note you can use the batch mode, which the API process all the regions in a fully parallel fashion\n",
    "t = time.monotonic()\n",
    "file.mean(regions)\n",
    "print(\"Time to compute mean depth for each chromosome with PyD4 task API: %.2fs\"%(time.monotonic() - t))\n",
    "\n",
    "t = time.monotonic()\n",
    "for chr, start, end in regions:\n",
    "    file[(chr, start, end)].mean()\n",
    "print(\"Time to compute mean depth for each chromosome with NumPy: %.2fs\"%(time.monotonic() - t))"
   ]
  },
  {
   "cell_type": "markdown",
   "id": "static-tunisia",
   "metadata": {},
   "source": [
    "# Accessing D4 file on a static HTTP server\n",
    "\n",
    "It's possible to access D4 file hosted on a static HTTP server, for example, Amazon S3, without downloading the file to local. The API remains the same as local file API, when the `D4File` is instantiated with an URL starting with `http://` or `https://`, PyD4 will enable the HTTP accessing support. \n",
    "\n",
    "Although you can call the same API, but there are few restrictions for the D4 file opened remotely, due to scanning the entire file is a very expensive operation on HTTP server:\n",
    "\n",
    "- Loading the raw data is slower, due to the network connection bandwidth is much smaller than bandwidth of interal bus.\n",
    "- If the remote file contains a secondary frame index(SFI), the random accessing speed may be faster\n",
    "- Task API currently only support compute mean depth when the remote file contains a data index\n",
    "- For all unsupported operation, the D4File API will throw a expection.\n",
    "\n",
    "Note: To create a index in the file, please use `d4tools index build` subcommand.\n",
    "\n",
    "- To create SFI, please run `d4tools index build -s data/hg002.d4`\n",
    "- To create data index, please run `d4tools index build -S data/hg002.d4`\n",
    "\n",
    "This example will use a sample D4 file with the both index hosted on Amazon S3."
   ]
  },
  {
   "cell_type": "code",
   "execution_count": 10,
   "id": "automatic-storage",
   "metadata": {
    "scrolled": true
   },
   "outputs": [
    {
     "name": "stdout",
     "output_type": "stream",
     "text": [
      "There are  87  chromosomes defined in the file: ['1', '2', '3', '4', '5', '6', '7', '8', '9', '10', '11', '12', '13', '14', '15', '16', '17', '18', '19', '20', '21', '22', 'X', 'Y', 'MT', 'GL000207.1', 'GL000226.1', 'GL000229.1', 'GL000231.1', 'GL000210.1', 'GL000239.1', 'GL000235.1', 'GL000201.1', 'GL000247.1', 'GL000245.1', 'GL000197.1', 'GL000203.1', 'GL000246.1', 'GL000249.1', 'GL000196.1', 'GL000248.1', 'GL000244.1', 'GL000238.1', 'GL000202.1', 'GL000234.1', 'GL000232.1', 'GL000206.1', 'GL000240.1', 'GL000236.1', 'GL000241.1', 'GL000243.1', 'GL000242.1', 'GL000230.1', 'GL000237.1', 'GL000233.1', 'GL000204.1', 'GL000198.1', 'GL000208.1', 'GL000191.1', 'GL000227.1', 'GL000228.1', 'GL000214.1', 'GL000221.1', 'GL000209.1', 'GL000218.1', 'GL000220.1', 'GL000213.1', 'GL000211.1', 'GL000199.1', 'GL000217.1', 'GL000216.1', 'GL000215.1', 'GL000205.1', 'GL000219.1', 'GL000224.1', 'GL000223.1', 'GL000195.1', 'GL000212.1', 'GL000222.1', 'GL000200.1', 'GL000193.1', 'GL000194.1', 'GL000225.1', 'GL000192.1', 'NC_007605', 'hs37d5', 'phix']\n",
      "[ 0  0  0 ... 10 10 10]\n",
      "[28 28 27 ... 28 28 28]\n",
      "Mean depth of chr1:  23.848106962188872\n"
     ]
    }
   ],
   "source": [
    "from pyd4 import D4File\n",
    "\n",
    "file = D4File('https://d4-format-testing.s3.us-west-1.amazonaws.com/hg002.d4')\n",
    "\n",
    "# Basic API doesn't change\n",
    "chroms = file.chroms()\n",
    "print(\"There are \", len(chroms), \" chromosomes defined in the file:\", [name for name, _ in chroms])\n",
    "\n",
    "\n",
    "# Loading raw data works as local file as well. \n",
    "# Note in this case, if we want to load chromosome 1, it will be ralatively slow due to network connection speed\n",
    "raw_first_mb_of_chr1 = file[\"1:0-1000000\"]\n",
    "print(raw_first_mb_of_chr1)\n",
    "\n",
    "# You can load from the any locus \n",
    "raw_second_mb_of_chr2 = file[\"2:1000000-2000000\"]\n",
    "print(raw_second_mb_of_chr2)\n",
    "\n",
    "# And you can utilize the data index for fast summarize, even the range is very large\n",
    "print(\"Mean depth of chr1: \", file.mean(\"1\"))"
   ]
  },
  {
   "cell_type": "markdown",
   "id": "broad-worcester",
   "metadata": {},
   "source": [
    "# Creating Multitrack D4 files\n",
    "In this section we are going to create a multitrack D4 files with pyd4. First, let's create a dummy D4 file with exactly same chromosome definition as HG002 sample and fill all data with zeros.\n",
    "\n",
    "Also, you can call `generate_index` method when creating a D4 file to make the output contains a index which allows remote access."
   ]
  },
  {
   "cell_type": "code",
   "execution_count": 1,
   "id": "lesser-convergence",
   "metadata": {},
   "outputs": [],
   "source": [
    "from pyd4 import D4File, D4Builder\n",
    "\n",
    "hg002 = D4File(\"data/hg002.d4\")\n",
    "\n",
    "all_zeros = D4Builder(\"data/all_zeros.d4\").dup_seqs(hg002).for_sparse_data().generate_index().get_writer()\n",
    "\n",
    "all_zeros.close()"
   ]
  },
  {
   "cell_type": "markdown",
   "id": "directed-dividend",
   "metadata": {},
   "source": [
    "Then, we can merge` hg002.d4` and `all_zeros.d4` using the `D4Merger` class."
   ]
  },
  {
   "cell_type": "code",
   "execution_count": 1,
   "id": "numeric-escape",
   "metadata": {},
   "outputs": [],
   "source": [
    "from pyd4 import D4Merger\n",
    "\n",
    "D4Merger(\"data/two_columns.d4\") \\\n",
    "    .add_track(\"data/hg002.d4\") \\\n",
    "    .add_tagged_track(\"dummy\", \"data/all_zeros.d4\") \\\n",
    "    .merge()\n"
   ]
  },
  {
   "cell_type": "markdown",
   "id": "complicated-notion",
   "metadata": {},
   "source": [
    "# Reading Multi-track D4 files\n",
    "\n",
    "To use the multi-track functionality, you just open a multi-track sample as normal. And then use `open_all_tracks` to open the multi-track D4 file as a matrix. Both local and remote D4 file shares this identical APIs."
   ]
  },
  {
   "cell_type": "code",
   "execution_count": 11,
   "id": "special-archives",
   "metadata": {
    "scrolled": true
   },
   "outputs": [
    {
     "name": "stdout",
     "output_type": "stream",
     "text": [
      "Tracks living in tihs file ['hg002', 'dummy']\n",
      "('1', 100000, [25, 0])\n",
      "('1', 100001, [24, 0])\n",
      "('1', 100002, [24, 0])\n",
      "('1', 100003, [24, 0])\n",
      "('1', 100004, [25, 0])\n",
      "('1', 100005, [25, 0])\n",
      "('1', 100006, [25, 0])\n",
      "('1', 100007, [25, 0])\n",
      "('1', 100008, [26, 0])\n",
      "('1', 100009, [26, 0])\n"
     ]
    },
    {
     "data": {
      "text/plain": [
       "[array([[ 0.    , 57.9233, 31.2226, ..., 44.2967, 15.6552,  0.    ],\n",
       "        [ 0.    ,  0.    ,  0.    , ...,  0.    ,  0.    ,  0.    ]]),\n",
       " array([10000, 10000])]"
      ]
     },
     "execution_count": 11,
     "metadata": {},
     "output_type": "execute_result"
    }
   ],
   "source": [
    "from pyd4 import D4File\n",
    "\n",
    "file = D4File(\"data/two_columns.d4\")\n",
    "print(\"Tracks living in tihs file\", file.list_tracks())\n",
    "\n",
    "matrix = file.open_all_tracks()\n",
    "\n",
    "# To enumerate the matix \n",
    "for values in matrix.enumerate_values(\"1\", 100000, 100010):\n",
    "    print(values)\n",
    "    \n",
    "# You can also downsample the matrix \n",
    "matrix.resample(\"1\",bin_size = 10000)"
   ]
  },
  {
   "cell_type": "markdown",
   "id": "aggregate-provincial",
   "metadata": {},
   "source": [
    "You can also open a single track living in this file as well with `file.d4:track-name` as the parameter of `D4File` constructor. For the remote file, you can use the URL hash to specify one track, for example `http://localhost:8000/my_d4_file.d4#hg002`"
   ]
  },
  {
   "cell_type": "code",
   "execution_count": 14,
   "id": "described-coach",
   "metadata": {},
   "outputs": [
    {
     "name": "stdout",
     "output_type": "stream",
     "text": [
      "0.0\n"
     ]
    }
   ],
   "source": [
    "from pyd4 import D4File\n",
    "file = D4File(\"data/two_columns.d4:dummy\")\n",
    "print(file[\"1\"].mean())"
   ]
  }
 ],
 "metadata": {
  "kernelspec": {
   "display_name": "Python 3",
   "language": "python",
   "name": "python3"
  },
  "language_info": {
   "codemirror_mode": {
    "name": "ipython",
    "version": 3
   },
   "file_extension": ".py",
   "mimetype": "text/x-python",
   "name": "python",
   "nbconvert_exporter": "python",
   "pygments_lexer": "ipython3",
   "version": "3.9.7"
  }
 },
 "nbformat": 4,
 "nbformat_minor": 5
}
