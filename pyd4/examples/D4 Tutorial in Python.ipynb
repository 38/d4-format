{
 "cells": [
  {
   "cell_type": "markdown",
   "id": "developmental-subsection",
   "metadata": {},
   "source": [
    "# Getting Started\n",
    "\n",
    "## Install Dependencies\n",
    "\n",
    "This is a tutorial of using D4 in Python. Before you started trying this document, please make sure you have D4 package and `d4tools` binary installed. \n",
    "\n",
    "* To install the d4tools binary, please read the instruction from [this link](https://github.com/38/d4-format#installation--2-minutes)\n",
    "* To install `pyd4`, please run command `pip install pyd4`\n",
    "\n",
    "## Download dataset\n",
    "\n",
    "To download the dataset we are using for this interactive document, please use the following links:\n",
    "* WGS Sample HG002: https://home.chpc.utah.edu/~u0875014/hg002.cram\n",
    "* Reference Genome: https://home.chpc.utah.edu/~u0875014/hg19.fa.gz\n",
    "\n",
    "Please make sure that index files is accessible for both CRAM file and reference genome.\n"
   ]
  },
  {
   "cell_type": "markdown",
   "id": "challenging-person",
   "metadata": {},
   "source": [
    "# Download Data"
   ]
  },
  {
   "cell_type": "code",
   "execution_count": 5,
   "id": "incident-actor",
   "metadata": {},
   "outputs": [
    {
     "data": {
      "text/plain": [
       "0"
      ]
     },
     "execution_count": 5,
     "metadata": {},
     "output_type": "execute_result"
    }
   ],
   "source": [
    "import os\n",
    "os.system(\"mkdir -p data\")\n",
    "os.system(\"cd data && wget --continue https://home.chpc.utah.edu/~u0875014/hg002.cram\")\n",
    "os.system(\"cd data && wget --continue https://home.chpc.utah.edu/~u0875014/hg002.cram.crai\")\n",
    "os.system(\"cd data && wget --continue https://home.chpc.utah.edu/~u0875014/hg19.fa.gz\")\n",
    "os.system(\"cd data && wget --continue https://home.chpc.utah.edu/~u0875014/hg19.fa.gz.fai\")"
   ]
  },
  {
   "cell_type": "markdown",
   "id": "curious-timothy",
   "metadata": {},
   "source": [
    "# Create depth profile for an alignment file"
   ]
  },
  {
   "cell_type": "code",
   "execution_count": null,
   "id": "electoral-persian",
   "metadata": {},
   "outputs": [],
   "source": []
  }
 ],
 "metadata": {
  "kernelspec": {
   "display_name": "Python 3",
   "language": "python",
   "name": "python3"
  },
  "language_info": {
   "codemirror_mode": {
    "name": "ipython",
    "version": 3
   },
   "file_extension": ".py",
   "mimetype": "text/x-python",
   "name": "python",
   "nbconvert_exporter": "python",
   "pygments_lexer": "ipython3",
   "version": "3.9.7"
  }
 },
 "nbformat": 4,
 "nbformat_minor": 5
}
